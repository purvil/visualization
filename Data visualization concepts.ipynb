{
 "cells": [
  {
   "cell_type": "markdown",
   "metadata": {},
   "source": [
    "* Data visualization is taking bunch of numbers and text and transforming that in pictures, chart, graph such that our brain can process.\n",
    "* Reveals unnoticed info from large dataset, gives answer faster. helps to investigate cause-effect relationship.\n",
    "* We need to visualize quantitative data for exploration : searching for significant facts, examining and making sense of data. Communication : convey the result to others.\n",
    "* Graph reveal big pictures and overview of data set. Useful for easily and rapidly comparing values. Seeing patterns among values like change over time, how values are distributed and correlation.\n",
    "* Business intelligence (BI) is tools and techniques used to transform raw info into data for analysis.\n",
    "* Data visualization tools\n",
    "    - PowerPivot\n",
    "    - Python : Matplotlib\n",
    "    - Tableau\n",
    "        - Tableau Public : Files are stored in cloud\n",
    "        - Tableau Desktop : Connect to data source and save locally\n",
    "        - Tableau Server : Requires major local server. Full data control\n",
    "        - Tableau Online : Stores visualization in the cloud. Can only share with people who has Tableau online license.\n",
    "* Story is a way to present your data in systematic way.\n",
    "* Excel is for table oriented data and doing calculations. Tableau's main goal is to be useful in explanatory analysis."
   ]
  },
  {
   "cell_type": "markdown",
   "metadata": {},
   "source": [
    "### Anscombe's quartet\n",
    "* Dataset which has nearly identical descriptive statistics, but appears very different in a graph. Thats why it is very important to visualize data.\n",
    "![Anscombe_quartet](images/Anscombe_quartet.png)\n",
    "* With visualization we can easily spot estimated mean, outlier,"
   ]
  },
  {
   "cell_type": "markdown",
   "metadata": {},
   "source": [
    "### Vector Vs Raster graphics\n",
    "* Vector graphics are used in drawing Ex. line\n",
    "* Rester graphics are used in television, phone screen. That is linear array of pixel and we fill color in each pixel. using such pixels we can show vector graphics in screen. This process is called rasterization. \n",
    "![rasterization](images/rasterization.jpg)\n",
    "\n",
    "### Mapping Data to graphical attributes\n",
    "![mapping](images/mapping.jpg)\n",
    " "
   ]
  },
  {
   "cell_type": "markdown",
   "metadata": {},
   "source": [
    "### Types of plots\n",
    "* Scatter plot include 2 quantitative scale and it is designed to display correlation between two variables. Point alone can be useful here.\n",
    "* But only points will not sufficient for time-series data. It is hard to follow chronological sequence of values when only points are presented. Make sure points is connected via line at least.\n",
    "* Only lines display overall shape of data as it changes through time more clearly than any other encoding method. There is only pure movements. It show trends and pattern of change.\n",
    "* Points and line combined can show overall trend and also focus individual values. Slope of line depicts rate of change.\n",
    "* In bar chart we compare them by comparing their lengths.\n",
    "* When we want to compare individual values bar chart is very useful.\n",
    "\n",
    "### Text or number visualization\n",
    "* High level information and dashboards\n",
    "* Ex. Page Views: 5567\n",
    "\n",
    "### Table\n",
    "* Effective way to convey lot of informations\n",
    "* Convey information across categories\n",
    "* 2 x 2 table is very effective\n",
    "\n",
    "### Heat Map\n",
    "* Tableau call it highlight table.\n",
    "* Use colors to visually emphasize information.\n",
    "![heatMap](images/heatMap.jpg)\n",
    "\n",
    "### Bar Chart\n",
    "* Also use when comparing the categories is most important than overall change.\n",
    "![bar_chart](images/bar_chart.jpg)\n",
    "\n",
    "### Line Chart\n",
    "* Visualize data across time.\n",
    "* Spot trends from with time variables\n",
    "* Allows for potential forecasting\n",
    "![line_chart](images/line_chart.jpg)\n",
    "\n",
    "\n",
    "### Scatter plot\n",
    "* Best for continuous variable\n",
    "* Discover inference or correlation\n",
    "* We can view potential data relationship\n",
    "![scatter_plot](images/scatter_plot.jpg)\n",
    "\n",
    "### Gantt Chart\n",
    "* Looks like sideway bar chart, except bases does not line up.\n",
    "* Progress of project, when task started and end.\n",
    "![gantt_chart](images/gantt_chart.jpg)\n",
    "\n",
    "### Map\n",
    "* Important for spatial analysis.\n",
    "* Use with spatial component, geography latitude and longitude data.\n",
    "\n",
    "### Summary\n",
    "![what_to_use](images/what_to_use.jpg)"
   ]
  },
  {
   "cell_type": "markdown",
   "metadata": {},
   "source": [
    "### Glyphs in charts\n",
    "* Useful to show third dimension in charts or graph.\n",
    "    - Shape at top of bar chart or start/end of gantt chart. Thickness of bar\n",
    "    - Shape of point in line chart and scatter plot\n",
    "![glyphs1](images/glyphs1.jpg)\n",
    "* Ex. cones can be used to indicate wind speed (size) and direction (orientation). Color also used means orange can show rise, blue can show fall. So in just 1 shape we are shoeing 3 dimension of data.\n",
    "![glyphs2](images/glyphs2.jpg)\n",
    "* In bar chart we can show more information like standard deviation and distribution of data.\n",
    "![glyphs3](images/glyphs3.jpg)\n",
    "* In table we can use color coding to show intensity.\n",
    "* worlds within worlds\n",
    "![graph_in_graph](images/graph_in_graph.jpg)"
   ]
  },
  {
   "cell_type": "markdown",
   "metadata": {},
   "source": [
    "### Retinal variable\n",
    "* Useful to encode additional variable in dataset beyond the 2D.\n",
    "* size, orientation and color saturation (light to dark color) (good for ordered data)\n",
    "* Color hue (different colors), shape, texture is good for nominal data. Ex. geographic region Asia, America, Europe"
   ]
  },
  {
   "cell_type": "markdown",
   "metadata": {},
   "source": [
    "### Parallel coordinate\n",
    "* Useful to show high dimensional data. Useful to find colinearity in data as, co linear points will meet in parallel coordinate.\n",
    "![parallel_coordinate1](images/parallel_coordinate1.jpg)\n",
    "![parallel_coordinate2](images/parallel_coordinate2.jpg)\n",
    "* Point of meet (convergence) can be out of the graph."
   ]
  },
  {
   "cell_type": "markdown",
   "metadata": {},
   "source": [
    "### Stacked Bar chart\n",
    "![stacked_bar](images/stacked_bar.jpg)\n",
    "* Variation of lower stack elements influences perception of upper stack elements.\n",
    "![stacked_bar1](images/stacked_bar1.jpg)"
   ]
  },
  {
   "cell_type": "markdown",
   "metadata": {},
   "source": [
    "### Relative contribution\n",
    "![relative_contribution](images/relative_contribution.jpg)\n",
    "* Also we can use pie chart.\n",
    "* When data is more simpler (only 2 categories), we are interested in % values or When we need to communicate part-whole relationship.\n",
    "* In pie chart we can easily estimate % values. Also use pie chart when approximate value is needed."
   ]
  },
  {
   "cell_type": "markdown",
   "metadata": {},
   "source": [
    "### Stacked line graph\n",
    "![stacked_line](images/stacked_line.jpg)"
   ]
  },
  {
   "cell_type": "markdown",
   "metadata": {},
   "source": [
    "## Tree Map\n",
    "![tree_map](images/tree_map.jpg)\n",
    "* Good way to represent hierarchy as area."
   ]
  },
  {
   "cell_type": "markdown",
   "metadata": {},
   "source": [
    "### Process of data visualization\n",
    "* Acquire data\n",
    "* Parse: Provide some structure for the data's meaning, categorize it.\n",
    "* Filter: Remove all but data of interest\n",
    "* Apply needed Statistics or data mining to find patterns\n",
    "* Choose basic visual model such as bar, list, tree\n",
    "* Refine : Improve basic representation to make it clear and more engaging\n",
    "* Add methods for manipulating the data or controlling what features are visible.\n",
    "* For numeric data\n",
    "    - Histogram, box plots, time series\n",
    "* Categorical data:\n",
    "    - Bar charts\n",
    "* Cat-num\n",
    "    - Box plots\n",
    "* Starts with simple graph to see if there are any outliers or weird spikes, Is there anything that not making sense. Remove outliers if not making sense"
   ]
  },
  {
   "cell_type": "markdown",
   "metadata": {},
   "source": [
    "### Explain encodings\n",
    "* Use color scale to indicate magnitude or the size of a square (bubble chart) to represent values or both\n",
    "* Explain what this encodings are supposed to indicates Using legends, directly labeling shapes or using separate paragraph.\n",
    "\n",
    "### Label axes and provides title\n",
    "* Label axes to see what scale points are plotted on. Is it logarithmic, incremental, exponential or per 100 units.\n",
    "* Start value of axis from 0. If not explain why?\n",
    "* As axis label do not JUST put variable name, provide description too.\n",
    "* Include units as axis label\n",
    "* Assign title or caption to plot\n",
    "* Rotate tick labels if they are squeezed together.\n",
    "* Do not use legend when we have only one data category.\n",
    "\n",
    "### Multi-trace plot\n",
    "* Set marker sizes appropriate so they clearly visible.\n",
    "* Color changes is not enough in markers, use shape changes because in black and white graph color will not  be differentiate easily.\n",
    "\n",
    "\n",
    "### Consider audience\n",
    "* If executives, make simple graph\n",
    "* if nerd, afford to have complex graph.\n",
    "* Scientist, go ahead and put complexity.\n",
    "\n",
    "* Use full axes and avoid distortion\n",
    "    - If some data is not visible in full axis, then draw original and zoomed chart, called panel chart.\n",
    "    ![](images/pannel_chart1.jpg)\n",
    "    ![](images/pannel_chart2.jpg)\n",
    "\n",
    "* Avoid axis break.\n",
    "![](images/axis_break.jpg)\n",
    "\n",
    "### Data to ink ration\n",
    "$$Data\\ to\\ Ink Ratio = \\frac{ink\\ used\\ to\\ display\\ data}{total\\ ink\\ used\\ to\\ display\\ the\\ graphic}$$\n",
    "* Increase data to ink ratio."
   ]
  },
  {
   "cell_type": "markdown",
   "metadata": {},
   "source": [
    "* Let the data speak. Avoid summaries and aggregations. Show where data is missing but do not distract the user. \n",
    "* Consider pictures/ icons/ glyphs in place of words.\n",
    "* Annotations: label your axis. \n",
    "* Data-ink ratio\n",
    "    - Maximize the ratio of data to ink in visualization. Do not waste ink elements for visualization that do not associated with data.\n",
    "    - Data-ink ratio is fractional amount of the plotting area dedicated to displaying the data.\n",
    "    - Non-data ink includes any elements in the chart that don't directly display data points. This includes tick markers, tick labels, and legends. Data ink includes any elements that display and depend on the data points underlying the chart. In a line chart, data ink would primarily be the lines and in a scatter plot, the data ink would primarily be in the markers.\n",
    "    \n",
    "![data_ink](images/data_ink.jpg)"
   ]
  },
  {
   "cell_type": "markdown",
   "metadata": {},
   "source": [
    "* Maintain consistent design. Do not change appearance for change only.\n",
    "* Tell story. What happening over time? What happening across the space?\n",
    "* Hue means Where(angle of) the color is in wheel, red, blue, yellow, cyan, magenta\n",
    "* Saturation means distance from gray. How intensive the color is.\n",
    "* Value is how bright the color is. Distance from block.\n",
    "* Hue is good to represent categorical nominal variable. Observer can differentiate between 5 to 10 hues. First choose white, black, red, yellow, green, blue then go for gray, pink, orange, brown, purple, cyan\n",
    "* Use saturated colors for points, stroke and symbols. Use desaturated colors for fills and larger areas.\n",
    "* Contrast means difference. Use higher luminance contrast to gain attention. "
   ]
  },
  {
   "cell_type": "markdown",
   "metadata": {},
   "source": [
    "### Sort data for easier comparisons\n",
    "![](images/sort.jpg)\n",
    "\n",
    "* Use direct labeling(annotation) whenever possible\n",
    "* Rotate bar chart when category names are too long\n",
    "* Do not  use 3D or blow apart effects\n",
    "* Avoid using pie chart or Donut chart. Use bar chart instead.\n",
    "* Avoid stacked charts difficult to compare data.\n",
    "* Do not compare apple with oranges.\n",
    "![](images/apple_orange.jpg)"
   ]
  },
  {
   "cell_type": "markdown",
   "metadata": {},
   "source": [
    "### Integrity during plotting data\n",
    "* Magnitide of one axis is shrinked or expanded to show correlation.\n",
    "* Pie chart does not add up to 100\n",
    "* Comparing across place, category just comparing with relative value is wrong. like india has highest rap rate. What about population?\n",
    "* Cherrypick data and timeframe is not good.\n",
    "* Misleading statistics, sample size too small\n",
    "* Starting from axis other than 0.\n",
    "![](images/mileading_graph.jpg)\n",
    "\n",
    "* In 3D pie chart front slice looks bigger than rear.\n",
    "![](images/apple_marketshare.jpg)\n",
    "\n",
    "* Improper scaling\n",
    "![](images/scaling.jpg)\n",
    "\n",
    "* Logarithmic scale: Tell explicitly whenever use it.\n",
    "    - Something scaling exponentially can visualized as linear in log scale.\n",
    "* Changing y axis maximum affects how graph appear. Higher maximum will cause the graph to appear to have less volatility less growth and less steep line.\n",
    "![](images/axis_change.jpg)\n",
    "* Omitting data\n",
    "![](images/omitting_data.jpg)"
   ]
  },
  {
   "cell_type": "markdown",
   "metadata": {},
   "source": [
    "### Overview first\n",
    "* Plot all of the data and just provide overall big picture.\n",
    "* Scatter plot of entire dataset.\n",
    "![scatter_plot1](images/scatter_plot1.jpg)\n",
    "* Choose axis that evenly spread out the data, set tight min max bound. consider log scale or other function.\n",
    "### Zoom and filter\n",
    "- fish eye lens\n",
    "- Filters- check box, range\n",
    "### Details on Demand\n",
    "- show details on mouseover event\n",
    "- User select a field value and related data points will be highlighted. "
   ]
  },
  {
   "cell_type": "markdown",
   "metadata": {},
   "source": [
    "* Make sure to start baseline for bar plot at 0. Otherwise user may misleads. Reduces the credibility\n",
    "![baseline](images/baseline.jpg)\n",
    "* Inverting axis is also misleading. Do not  deviate from standard way of presenting graph.\n",
    "![inverted_graph](images/inverted_graph.jpg)\n",
    "* Increment axis in regular manner. Do not increase by 1 and suddenly increment axis by 50 level.\n",
    "* Be consistent if number is shown as thousand do not show as hundreds in other place.\n",
    "* Same color for same category for all plots.\n",
    "* Do not go beyond 4 numbers and 2 decimal place. Use millions, thousands.\n",
    "* Pay attention to sorting of data."
   ]
  },
  {
   "cell_type": "markdown",
   "metadata": {},
   "source": [
    "### Who, What and How\n",
    "* What is the audience?\n",
    "* What do you need your audience to do?\n",
    "* How will you communicate to the audience?\n",
    "* Do not convert data into just chart, make sure to convert in insight.\n",
    "* Most human brain is devoted to visual processing (Fast visual processing)\n",
    "* Human brain are trained to perform fast visual processing than in detailed at first place. So assign color or shape as visual attributes. Use attributes that pop out immediately, Hue, orientation, texture, position and alignment, color brightness, color saturation, size, shape\n",
    "![pop_out](images/pop_out.jpg)\n",
    "* Make clear, accurate interpretation so audience gain useful insight. Human will make automatic and immediate perception first (Noticing hidden animal in bush), secondly human will think slower and make more deliberate cognition.\n",
    "* Avoid 3D charts in any cost. It skews information, adds confusion\n",
    "* No more than 5 slice in Pie chart. To compare value use bar charts, to compare part whole relationship use pie chart.\n",
    "* Sort bar charts by values.\n",
    "* Make direct labeling whenever possible\n",
    "![no_direct](images/no_direct.jpg)\n",
    "![direct](images/direct.jpg)\n",
    "\n",
    "* Label your axis\n",
    "* Avoid diagonal text and vertical text\n",
    "* Avoid axis grids, avoid chart border. Avoid unnecessary fractional part.\n",
    "* In line chart only use explicit point position when needed.\n",
    "* When line graph gets bit noisy use thin lines. Avoid stacked graph and use line charts instead. When you have multiple line in same graph it is better to divide them up in its own graph and use same axis scaling. Only one use of stacked line graph is easier to find relative proportion as whole.\n",
    "* For large number of such line graphs use **trellis plot**\n",
    "![trellis_plot](images/trellis_plot.png)"
   ]
  },
  {
   "cell_type": "markdown",
   "metadata": {},
   "source": [
    "### Cognitive load\n",
    "* Amount of mental effort that we use to interpret the information.\n",
    "* Using visualization main goal is to minimize cognitive load and still accurately deliver the message\n",
    "    - Intrinsic : Amount of memory that we need to understand something. Different task need different amount of thoughts and attention. (2 + 2 vs 324354354  + 3543541351)\n",
    "    - Extraneous : Amount of brain power I need to interpret poorly designed visualization. Requires more effort to identify problems and create a mental image.\n",
    "    - Germane : How we mentally organize into patterns and contextualize information for later reference.\n",
    "    \n",
    "### Clutter\n",
    "* All things we remove while still preserving key ideas. Reduce clutter to minimize cognitive load.\n",
    "* Less clutter = more effective visualization.\n",
    "* Redundecy may be clutter but it may reduce cognitive load. Currency symbol, % sign, Commas within numbers, scientific notation.\n",
    "* Make sure graph is readable (NO background image, proper contrast between background and data points) Top left corner generally get more attention.\n",
    "\n",
    "### Gestalt(german word for shape/form) law :\n",
    "* Tells how people percieve visual objects and the arrangement of visual objects.\n",
    "* Human brain process simpler pattern faster than more complex.\n",
    "* Law of focal point: Distinctive object create a focal point. (different color etc.)\n",
    "\n",
    "#### Proximity : \n",
    "* Elements placed close together allows our mind to perceive as group.\n",
    "![proximity](images/proximity.jpg)\n",
    "\n",
    "#### Similarity : \n",
    "* We naturally group similar looking items. In scatter plot + for one category * for other.\n",
    "![Similarity](images/Similarity.jpg)\n",
    "\n",
    "#### Enclosure : \n",
    "* Highlight area using contrast. Using boundary or color highlight information\n",
    "![Enclosure](images/Enclosure.jpg)\n",
    "\n",
    "#### Closure : \n",
    "* Minds ability to fill in gaps. User must have enough essential information to be able to fill the gaps.\n",
    "* We fill in missing information to make for a single recognizable pattern\n",
    "![closure](images/closure.jpg)\n",
    "    - Bar works without any axis because the bars are aligned at bottom\n",
    "\n",
    "#### Continuity : \n",
    "* No need for an axis because the bars are lined up on bottom\n",
    "* Elements arranged as line or curve are perceived to be more related then elements not on the line or curve\n",
    "![continuation](images/continuation.png)\n",
    "\n",
    "#### Connection : \n",
    "* Thing connected to each other with line are related.\n",
    "![continuity](images/continuity.jpg)\n",
    " \n",
    "#### Synchrony\n",
    "* Elements moving in the same direction are perceived as being more related than elements that are stationary or that move in different directions. Elements that change at the same time group together."
   ]
  },
  {
   "cell_type": "markdown",
   "metadata": {},
   "source": [
    "* Good visualization allows users to see what we want them to see before they know that they have seen it.\n",
    "* Change one of this to catch user's attention\n",
    "    - size, color, orientation, shape, line composition, enclosure, intensity, position"
   ]
  },
  {
   "cell_type": "markdown",
   "metadata": {},
   "source": [
    "### Exploratory vs Explanatory\n",
    "* Explore the data to become familiar with it. Exploratory analysis. Dig thorough our data. Find relationships and trends.\n",
    "* We need to know where data is originated, how it is labeled, structured or unstructured? Are there holes in data.\n",
    "* Having clear understanding of question we make it easier to choose variables and also determine which analysis to use with data.\n",
    "* Explanatory analysis : explain outcome or relationship. Something which we want to show to audience. Tell story with data.\n",
    "* Try different variables and look for patterns in explanatory and explain discovered pattern in explanatory."
   ]
  },
  {
   "cell_type": "markdown",
   "metadata": {},
   "source": [
    "------------------------------"
   ]
  },
  {
   "cell_type": "markdown",
   "metadata": {},
   "source": [
    "### Plotting with large data\n",
    "* Occlusion of data by other data is called over plotting or over drawing, it happens when data point or curve is plotted on top of data point or curve.\n",
    "![](images/overplotting.jpg)\n",
    "* Here C and D shows same distributions of points, but both give a different impression of points of which category is common based on this data.\n",
    "* We can use 3D graph to separate red and blue point by placing them in different Z axis\n",
    "* Other problem is over saturation,\n",
    "    - Using transparency (alpha) alpha is 0.1 meaning full color saturation will occur when 10 points is plotted on top of each other.\n",
    "![](images/oversaturation.jpg)\n",
    "    - Still there are points where more than 10 point is there (for alpha 0.1) Last 10 points defines the final color. So right alpha value is important.\n",
    "* UnderSampling:\n",
    "    - We have sum of 2 normal distribution slightly offset from one another. We do not have color choice, we can use small point of size 0.1 works well on sample of 600 points, but for larger dataset it has issue of over plotting. For such case we can use small points with 0.1 alpha.\n",
    "    - For A we are not able to guess center of 2 distributions, in D it is perfect.\n",
    "    ![](images/undersampling.jpg)\n",
    "* UnderSaturation:\n",
    "    - We have 5 normal distributions with 10000 points in each. In A very large spread covers everything else. In B there are 4 clearly visible distributions. Each of 5 have same number of data points but second largest looks more data points than others. Narrowest one is overlooked. Here oversaturation obscuring important features.\n",
    "    - In C we use transparency for over saturation problem, but now large spread distribution is invisible, which is undersaturation problem.\n",
    "    ![](images/undersaturation.jpg)\n",
    "* Using log transformation\n",
    "    - With transaperancy when we have 1 point it will appear as grayscale of 25, 2 points as 50, 3 as 75 and so on..We go linear. To avoid linear change we do log transformation such that, if there is 10 points it appears as 50, but if there are 100 points it does no appear as 50* 10.\n",
    "![](images/log.jpg)"
   ]
  },
  {
   "cell_type": "markdown",
   "metadata": {},
   "source": [
    "### Color Blind palette\n",
    "![](images/tableau_rgb_values.png)\n",
    "* Pass `c=(0/255,107/255,164/255)` in matplotlib as it expects values to be scaled down between 0 and 1."
   ]
  },
  {
   "cell_type": "markdown",
   "metadata": {},
   "source": [
    "* There are 4 important ingredients of effective visualization\n",
    "    - Visual cues : Encoding data with shape (plot 2 data set in same scatter plot), color(hue, saturation. Hue is different color, we can assign different hue to each group. Saturation is intensity of color. Quantity of values can be shown by saturation), size(area, volume bigger means greater), position(scatter plot), length(bar chart), angle(pie chart), direction(line chart). \n",
    "    - Coordinate system : structured area where our data is plotted\n",
    "    - Scale/data type: numeric, categorical, time series.\n",
    "    - Context: Clarify what info is in chart, title, xlabel, ylabel, annotations, clarify what values represents, explain how to interpret the data."
   ]
  }
 ],
 "metadata": {
  "kernelspec": {
   "display_name": "Python 3",
   "language": "python",
   "name": "python3"
  },
  "language_info": {
   "codemirror_mode": {
    "name": "ipython",
    "version": 3
   },
   "file_extension": ".py",
   "mimetype": "text/x-python",
   "name": "python",
   "nbconvert_exporter": "python",
   "pygments_lexer": "ipython3",
   "version": "3.7.1"
  }
 },
 "nbformat": 4,
 "nbformat_minor": 2
}
