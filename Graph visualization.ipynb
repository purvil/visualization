{
 "cells": [
  {
   "cell_type": "markdown",
   "metadata": {},
   "source": [
    "* We need to visualize both node and edges.\n",
    "* To understand flow of a network(IS providers network, subway network)\n",
    "* Understand the relation between geographical object\n",
    "* Visualize socioeconomic patterns."
   ]
  },
  {
   "cell_type": "markdown",
   "metadata": {},
   "source": [
    "* Nodes can be represented as size, color, shape, location, label.\n",
    "* Links can have direction, width, color, shape, label\n",
    "* Other approach is adjacency matrix, weight matrix (instead of 0 and 1 edge weight)\n",
    "* Issues\n",
    "    - Large data has more variables, more detail and more categories\n",
    "    -  Interactive graph is complex when data changes fast.\n",
    "* Minimize link crossing, \n",
    "![](graph_images/edge_crossing.jpg)\n",
    "* Minimize link width, link bends, maximize symmetries.\n",
    "![](graph_images/uniform_edge_length.jpg)\n",
    "* Do not allow to overlap node on edge.\n",
    "![](graph_images/overlapping_node.jpg)\n",
    "### Graph layout style\n",
    "![](graph_images/graph_layout.jpg)"
   ]
  },
  {
   "cell_type": "markdown",
   "metadata": {},
   "source": [
    "#### non-planar vs planar graph\n",
    "* In planar graph edges do not cross.\n",
    "![planar_graph](images/planar_graph.jpg)"
   ]
  },
  {
   "cell_type": "markdown",
   "metadata": {},
   "source": [
    "* How to find planar graph \n",
    "* Tutte method\n",
    "- input is graph G with nodes 1,...,N.\n",
    "- Identify some of the nodes as boundary nodes and assign them 2-D positions  \n",
    "![boundry_node](images/boundry_node.jpg)\n",
    "- Create graph laplacian matrix, which is adjacency matrix with elements $L_{ij} = 1 / deg(i)$ for an edge between node i and j\n",
    "![laplacian_matrix](images/laplacian_matrix.jpg)\n",
    "- As we already plotted node 1,2,3,4 just place 0 in first 4 rows and subtract that matrix from I.\n",
    "![laplacian_matrix2](images/laplacian_matrix2.jpg)\n",
    "- Create linear system of equation to solve Ax = $b_x$ and Ay = $b_y$\n",
    "![x_coordinate](images/x_coordinate.jpg)\n",
    "- Solve similar for y-coordinate\n",
    "![y_coordinate](images/y_coordinate.jpg)\n",
    "![final](images/final.jpg)"
   ]
  },
  {
   "cell_type": "markdown",
   "metadata": {},
   "source": [
    "* it is just putting some node at some position and rest of the node is just average of their neighboring node.\n",
    "* it tells how to planar graph on plane so its edge does not cross.\n",
    "\n",
    "#### Centrality of nodes\n",
    "* Node degree is simple centrality measure.\n",
    "* high degree node better connected than low degree nodes. PageRank : sum of pageranks of incoming links\n",
    "* Isolation metric is total distance to all other nodes\n",
    "    - For central node this total will be lowest.\n",
    "    - closeness centrality = 1 / isolation metric\n",
    "    - graph centrality = 1 / distance to the farthest node\n",
    "* Betweenness centrality of node\n",
    "    - Portion of all shortest path between any two nodes that pass through the given node\n",
    "- To simplify graph we can remove low between centrality edge or vertex as it does not disconnect graph.\n",
    "\n",
    "#### Community discovery\n",
    "* Remove edges in order of decreasing betweenness centrality, from highest to lowest.\n",
    "* At lowest level reveals communities.\n",
    "![community_discovery](images/community_discovery.jpg)"
   ]
  },
  {
   "cell_type": "markdown",
   "metadata": {},
   "source": [
    "### Random layout\n",
    "* Take node, put at random place and connect edges between them. It is fast but, hard to interpret.\n",
    "![](graph_images/random_layout.jpg)\n",
    "\n",
    "### Circular layout\n",
    "* Layout node across the circle and connect them with edge. Circular coordinate can represent property of data like latitude or age. It is fast, difficult to interpret with large networks.\n",
    "* Many overlapping long edges\n",
    "![](graph_images/circular_layout.jpg)\n",
    "\n",
    "### Radial layout\n",
    "* Start with 1 node, draw all other nodes in circular layer according how many hops it takes to reach that.\n",
    "![](graph_images/radial_layout.jpg)\n",
    "* Best way to select node at center which has highest centrality.\n",
    "\n",
    "### Tree Layout \n",
    "![](graph_images/tree_layout.jpg)\n",
    "\n",
    "### Adjacency matrix layout\n",
    "![](graph_images/adjacency_matrix.jpg)"
   ]
  },
  {
   "cell_type": "markdown",
   "metadata": {},
   "source": [
    "### Dealing with large graph\n",
    "* Enforce condition to reduce nodes and edge\n",
    "    - Only authors who have written at least x papers\n",
    "    - Only edges with weight > y\n",
    "    - Only edges with degree > Z (removing leaf nodes)\n",
    "* Show minimum spanning tree\n",
    "    - Can visualize all node with minimum edges\n",
    "* Collapse nodes in cluster\n",
    "    - Instead of one node per city,1 node per state.\n",
    "* When visualizing graph over the time, do not change location of node. "
   ]
  },
  {
   "cell_type": "markdown",
   "metadata": {},
   "source": [
    "### Gephi\n",
    "* Open source tool to import, explore statistics, layout, cluster, filter, preview and export graph"
   ]
  }
 ],
 "metadata": {
  "kernelspec": {
   "display_name": "Python 3",
   "language": "python",
   "name": "python3"
  },
  "language_info": {
   "codemirror_mode": {
    "name": "ipython",
    "version": 3
   },
   "file_extension": ".py",
   "mimetype": "text/x-python",
   "name": "python",
   "nbconvert_exporter": "python",
   "pygments_lexer": "ipython3",
   "version": "3.7.1"
  }
 },
 "nbformat": 4,
 "nbformat_minor": 2
}
